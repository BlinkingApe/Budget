{
 "cells": [
  {
   "cell_type": "code",
   "execution_count": 1,
   "metadata": {},
   "outputs": [],
   "source": [
    "import pandas as pd\n",
    "import matplotlib.pyplot as plt\n",
    "pd.options.mode.chained_assignment = None  # default='warn'"
   ]
  },
  {
   "cell_type": "code",
   "execution_count": 2,
   "metadata": {},
   "outputs": [],
   "source": [
    "def clean_df(df):\n",
    "    \"\"\"cleans data in dataframe df\"\"\"\n",
    "\n",
    "    # change numbering format to english standard\n",
    "    df['Amount'] = [x.strip().replace('.', '') for x in df['Amount']]\n",
    "    df['Amount'] = [x.strip().replace(',', '.') for x in df['Amount']]\n",
    "\n",
    "    # change from string to datetime\n",
    "    df['Date'] = pd.to_datetime(df['Date'], format='%d.%m.%Y')\n",
    "    # change from string to number in 5th column\n",
    "    df[['Amount']] = df[['Amount']].apply(pd.to_numeric)\n",
    "    # strip whitespace in 2nd column\n",
    "    df['Party'] = df['Party'].str.strip()\n",
    "\n",
    "    return df"
   ]
  },
  {
   "cell_type": "code",
   "execution_count": 3,
   "metadata": {},
   "outputs": [],
   "source": [
    "def slice_by_date(df, start_date, end_date):\n",
    "    \"\"\"returns a dataframe subset in the range specified\"\"\"\n",
    "\n",
    "    # convert strings to datetime format\n",
    "    start_date = pd.to_datetime(start_date, format='%d.%m.%Y')\n",
    "    end_date = pd.to_datetime(end_date, format='%d.%m.%Y')\n",
    "\n",
    "    # slice dataframe to given date range\n",
    "    mask = (df['Date'] >= start_date) & (df['Date'] <= end_date)\n",
    "\n",
    "    # return sliced dataframe\n",
    "    return df.loc[mask]    "
   ]
  },
  {
   "cell_type": "code",
   "execution_count": 4,
   "metadata": {},
   "outputs": [],
   "source": [
    "def split_df(df):\n",
    "    \"\"\"splits dataframe into income and outgo dataframes\"\"\"\n",
    "\n",
    "    # income values are positive\n",
    "    income_df = df[df['Amount'] > 0]\n",
    "\n",
    "    # outgo values are negative\n",
    "    outgo_df = df[df['Amount'] < 0]\n",
    "\n",
    "    return income_df, outgo_df"
   ]
  },
  {
   "cell_type": "code",
   "execution_count": 5,
   "metadata": {},
   "outputs": [],
   "source": [
    "def group_df(df):\n",
    "    \"\"\"sums duplicate entries then drops the duplicates\"\"\"\n",
    "\n",
    "    # Values summed in column '5' for duplicates in column 'Party'\n",
    "    df['Amount'] = df.groupby(['Party'])['Amount'].transform('sum')\n",
    "\n",
    "    # duplicates in column 'Party' are dropped\n",
    "    df = df.drop_duplicates(subset='Party')\n",
    "    # df = df.drop(['Party'], axis=1)\n",
    "\n",
    "    return df"
   ]
  },
  {
   "cell_type": "code",
   "execution_count": 6,
   "metadata": {},
   "outputs": [],
   "source": [
    "def cat_income(df, other=False):\n",
    "    \"\"\"categorizes income\"\"\"\n",
    "\n",
    "    # lists of known senders\n",
    "    paycheck = ['Landeskasse Duesseldorf fuer LBV']\n",
    "\n",
    "    tax_return = ['STEUERVERWALTUNG NRW']\n",
    "\n",
    "    transfers = ['ING-DiBa AG, Frankfurt a.M.']\n",
    "\n",
    "    eltgeld = ['Bundeskasse Trier']\n",
    "\n",
    "    # list of categories\n",
    "    categories = ['PAYCHECK', 'ELTERNGELD', 'TAX RETURN', 'TRANSFERS']\n",
    "\n",
    "    # change values in column '2' if they are on a list\n",
    "    df.loc[df['Party'].isin(paycheck), 'Party'] = 'PAYCHECK'\n",
    "    df.loc[df['Party'].isin(tax_return), 'Party'] = 'TAX RETURN'\n",
    "    df.loc[df['Party'].isin(transfers), 'Party'] = 'TRANSFERS'\n",
    "    df.loc[df['Party'].isin(eltgeld), 'Party'] = 'ELTERNGELD'\n",
    "\n",
    "    # if others=True, values not in categories list are renamed to 'OTHERS'\n",
    "    if other:\n",
    "        df.loc[~df['Party'].isin(categories), 'Party'] = 'OTHER'\n",
    "\n",
    "    return df"
   ]
  },
  {
   "cell_type": "code",
   "execution_count": 7,
   "metadata": {},
   "outputs": [],
   "source": [
    "def cat_outgo(df, other=False):\n",
    "    \"\"\"sums duplicate entries then drops the duplicates\"\"\"\n",
    "\n",
    "    # lists of known senders\n",
    "    groceries = ['NETTO MARKEN-DISCOU.', 'DM DROGERIEMARKT SAGT DANKE',\n",
    "                 'Feldkamp Einzelhan', 'ALDI SUED SAGT DANKE',\n",
    "                 'DANKE, IHR LIDL', 'PRO BIOMARKT',\n",
    "                 'Feldkamp Einzelhandels oH', 'JACQUES WEIN-DEPOT',\n",
    "                 'ROSSMANN VIELEN DANK', '3825 NK DU-NEUDORF',\n",
    "                 'Feldkamp Einzelhandels EH', 'KAISERS TENGELMANN GMBH']\n",
    "\n",
    "    rent = ['Duisburger Haus- und Grundbesitzer GmbH']\n",
    "\n",
    "    utilities = ['Stadtwerke Duisburg AG', 'UNITYMEDIA NRW GMBH',\n",
    "                 'Telefonica Germany GmbH + Co. OHG', 'VISA MULLVAD',\n",
    "                 'Rundfunk ARD, ZDF, DRadio']\n",
    "\n",
    "    insurance = ['HUK-COBURG UNTERNEHMENSGRUPPE',\n",
    "                 'Wurzburger Versicherungs-AG']\n",
    "\n",
    "    savings = ['Lena Tillman']\n",
    "\n",
    "    delivery = ['VISA LIEFERSERVICE.DE', 'VISA LIEFERANDO.DE']\n",
    "\n",
    "    online = ['VISA AMAZON SVCS EU-DE AMAZ', 'VISA AMAZON DE MARKETPLACE',\n",
    "              'VISA AMAZON EU', 'VISA AMAZON EU AMAZON.DE']\n",
    "\n",
    "    baby_class = ['Evangelischer Kirchenkreis Duisburg']\n",
    "\n",
    "    fees = ['ING-DiBa AG, Frankfurt a.M.']\n",
    "\n",
    "    cash = ['VISA SPARKASSE DUISBURG']\n",
    "\n",
    "    uni = ['Hochschule Rhein-Waa']\n",
    "\n",
    "    car = ['OIL TANKSTELLEN GMBH COKG']\n",
    "\n",
    "    holiday = ['VISA PARKING NOU MERCAT', 'VISA AUCAT BAR VALLCARC',\n",
    "               'VISA HERTZ DE ESPANA SA', 'VISA E0565 EL PRAT DE LLOBR',\n",
    "               'VISA BANCOSABADELL/10081174', 'First Data Deutschland GmbH',\n",
    "               'VISA CHIR.IBIZA PLAYA CASTE', 'VISA ATM 0388 BANCA MARCH1',\n",
    "               'VISA LUCIANA PAVONE', 'VISA 1616000011/EL PRAT',\n",
    "               '3140 GOODMAN + FILIPPO DUeS', 'VISA CAR DEL MAR']\n",
    "\n",
    "    clothes = ['RUNNERS POINT FORUM DUISBUR', 'KARSTADT WARENHAUS GMBH']\n",
    "\n",
    "    health = ['LOEWEN-APOTHEKE', 'DRES. JUTTA VAN BOEMMEL, DU',\n",
    "              'MVZ DIE ZAHNAERZTE MUELHEIM']\n",
    "\n",
    "    home = ['VISA BM DUISBURG/KASSLE']\n",
    "\n",
    "    leisure = ['VISA STEAMGAMES.COM 4259522', 'VISA STEAMGAMES.COM']\n",
    "\n",
    "    # list of categories\n",
    "    categories = ['GROCERIES', 'RENT', 'UTILITIES', 'INSURANCE'\n",
    "                  'SAVINGS', 'DELIVERY', 'ONLINE', 'BABY CLASSES',\n",
    "                  'FEES', 'CASH', 'UNI', 'CAR', 'HOLIDAY', 'CLOTHES',\n",
    "                  'HEALTH', 'HOME', 'LEISURE']\n",
    "\n",
    "    # change values in column 'Party' if they are on a list\n",
    "    df.loc[df['Party'].isin(groceries), 'Party'] = 'GROCERIES'\n",
    "    df.loc[df['Party'].isin(rent), 'Party'] = 'RENT'\n",
    "    df.loc[df['Party'].isin(utilities), 'Party'] = 'UTILITIES'\n",
    "    df.loc[df['Party'].isin(insurance), 'Party'] = 'INSURANCE'\n",
    "    df.loc[df['Party'].isin(savings), 'Party'] = 'SAVINGS'\n",
    "    df.loc[df['Party'].isin(delivery), 'Party'] = 'DELIVERY'\n",
    "    df.loc[df['Party'].isin(online), 'Party'] = 'ONLINE'\n",
    "    df.loc[df['Party'].isin(baby_class), 'Party'] = 'BABY CLASSES'\n",
    "    df.loc[df['Party'].isin(fees), 'Party'] = 'FEES'\n",
    "    df.loc[df['Party'].isin(cash), 'Party'] = 'CASH'\n",
    "    df.loc[df['Party'].isin(uni), 'Party'] = 'UNI'\n",
    "    df.loc[df['Party'].isin(car), 'Party'] = 'CAR'\n",
    "    df.loc[df['Party'].isin(holiday), 'Party'] = 'HOLIDAY'\n",
    "    df.loc[df['Party'].isin(clothes), 'Party'] = 'CLOTHES'\n",
    "    df.loc[df['Party'].isin(health), 'Party'] = 'HEALTH'\n",
    "    df.loc[df['Party'].isin(home), 'Party'] = 'HOME'\n",
    "    df.loc[df['Party'].isin(leisure), 'Party'] = 'LEISURE'\n",
    "    # if others = True, values not in categories list are renamed to 'OTHERS'\n",
    "    if other:\n",
    "        df.loc[~df['Party'].isin(categories), 'Party'] = 'OTHER'\n",
    "\n",
    "    return df"
   ]
  },
  {
   "cell_type": "code",
   "execution_count": 8,
   "metadata": {},
   "outputs": [],
   "source": [
    "def show_both(csv, start_date, end_date):\n",
    "\n",
    "    # read csv data into dataframe\n",
    "    df = pd.read_csv(csv, sep=';', usecols=['Date', 'Party', 'Amount'])\n",
    "\n",
    "    # cleans data\n",
    "    df = clean_df(df)\n",
    "\n",
    "    # slice by date\n",
    "    df = slice_by_date(df, start_date, end_date)\n",
    "\n",
    "    # splits data into income and outgo\n",
    "    income_df, outgo_df = split_df(df)\n",
    "\n",
    "    return income_df, outgo_df"
   ]
  },
  {
   "cell_type": "code",
   "execution_count": 9,
   "metadata": {},
   "outputs": [],
   "source": [
    "def show_df(df):\n",
    "\n",
    "    # cleans data\n",
    "    df = clean_df(df)\n",
    "\n",
    "    # splits data into income and outgo\n",
    "    income_df, outgo_df = split_df(df)\n",
    "\n",
    "    return income_df, outgo_df"
   ]
  },
  {
   "cell_type": "code",
   "execution_count": 10,
   "metadata": {},
   "outputs": [],
   "source": [
    "def group_both(csv, start_date, end_date, other=False):\n",
    "\n",
    "    # returns cleaned df\n",
    "    income_df, outgo_df = show_both(csv, start_date, end_date)\n",
    "\n",
    "    # returns categorized df\n",
    "    income_df = cat_income(income_df, other)\n",
    "\n",
    "    # returns df with categories summed\n",
    "    income_df = group_df(income_df)\n",
    "\n",
    "    # returns categorized df\n",
    "    outgo_df = cat_outgo(outgo_df, other)\n",
    "\n",
    "    # returns df with categories summed\n",
    "    outgo_df = group_df(outgo_df)\n",
    "\n",
    "    return income_df, outgo_df"
   ]
  },
  {
   "cell_type": "code",
   "execution_count": 11,
   "metadata": {},
   "outputs": [],
   "source": [
    "def group_both_df(df, other=False):\n",
    "\n",
    "    # returns cleaned df\n",
    "    income_df, outgo_df = split_df(df)\n",
    "\n",
    "    # returns categorized df\n",
    "    income_df = cat_income(income_df, other)\n",
    "\n",
    "    # returns df with categories summed\n",
    "    income_df = group_df(income_df)\n",
    "\n",
    "    # returns categorized df\n",
    "    outgo_df = cat_outgo(outgo_df, other)\n",
    "\n",
    "    # returns df with categories summed\n",
    "    outgo_df = group_df(outgo_df)\n",
    "\n",
    "    return income_df, outgo_df"
   ]
  },
  {
   "cell_type": "code",
   "execution_count": 12,
   "metadata": {},
   "outputs": [],
   "source": [
    "def trend_line(csv, category):\n",
    "\n",
    "    # read csv file into df, clean df, and set index\n",
    "    df = pd.read_csv(csv, sep=';', usecols=['Date', 'Party', 'Amount'])\n",
    "    df = clean_df(df)\n",
    "    df = df.set_index('Date')\n",
    "\n",
    "    # creates list of dataframes grouped by month\n",
    "    months = [g for n, g in df.groupby(pd.Grouper(freq='M'))]\n",
    "\n",
    "    months_income = []\n",
    "    months_outgo = []\n",
    "\n",
    "    # splits months and groups\n",
    "    for month in months:\n",
    "        income, outgo = group_both_df(month)\n",
    "        months_income.append(income)\n",
    "        months_outgo.append(outgo)\n",
    "\n",
    "    x = []\n",
    "    y = []\n",
    "\n",
    "    for month in months_outgo:\n",
    "        df = month\n",
    "        x.append(df.index[0].strftime('%b %Y'))  # month and year as x value\n",
    "        if category in df.values:  # if category exists in month\n",
    "            # absolute value of category expense as y value\n",
    "            y.append(abs(df.loc[df['Party'] == category, 'Amount'].iloc[0]))\n",
    "        else:\n",
    "            y.append(0)\n",
    "\n",
    "    plt.plot(x, y)\n",
    "    plt.xticks(rotation=90)\n",
    "    plt.show()"
   ]
  },
  {
   "cell_type": "code",
   "execution_count": null,
   "metadata": {},
   "outputs": [],
   "source": []
  },
  {
   "cell_type": "code",
   "execution_count": 13,
   "metadata": {},
   "outputs": [
    {
     "ename": "FileNotFoundError",
     "evalue": "File b'banking.csv' does not exist",
     "output_type": "error",
     "traceback": [
      "\u001b[0;31m---------------------------------------------------------------------------\u001b[0m",
      "\u001b[0;31mFileNotFoundError\u001b[0m                         Traceback (most recent call last)",
      "\u001b[0;32m<ipython-input-13-8bb38628b443>\u001b[0m in \u001b[0;36m<module>\u001b[0;34m()\u001b[0m\n\u001b[0;32m----> 1\u001b[0;31m \u001b[0mtrend_line\u001b[0m\u001b[0;34m(\u001b[0m\u001b[0;34m'banking.csv'\u001b[0m\u001b[0;34m,\u001b[0m \u001b[0;34m'CASH'\u001b[0m\u001b[0;34m)\u001b[0m\u001b[0;34m\u001b[0m\u001b[0m\n\u001b[0m",
      "\u001b[0;32m<ipython-input-12-23a6df738279>\u001b[0m in \u001b[0;36mtrend_line\u001b[0;34m(csv, category)\u001b[0m\n\u001b[1;32m      2\u001b[0m \u001b[0;34m\u001b[0m\u001b[0m\n\u001b[1;32m      3\u001b[0m     \u001b[0;31m# read csv file into df, clean df, and set index\u001b[0m\u001b[0;34m\u001b[0m\u001b[0;34m\u001b[0m\u001b[0m\n\u001b[0;32m----> 4\u001b[0;31m     \u001b[0mdf\u001b[0m \u001b[0;34m=\u001b[0m \u001b[0mpd\u001b[0m\u001b[0;34m.\u001b[0m\u001b[0mread_csv\u001b[0m\u001b[0;34m(\u001b[0m\u001b[0mcsv\u001b[0m\u001b[0;34m,\u001b[0m \u001b[0msep\u001b[0m\u001b[0;34m=\u001b[0m\u001b[0;34m';'\u001b[0m\u001b[0;34m,\u001b[0m \u001b[0musecols\u001b[0m\u001b[0;34m=\u001b[0m\u001b[0;34m[\u001b[0m\u001b[0;34m'Date'\u001b[0m\u001b[0;34m,\u001b[0m \u001b[0;34m'Party'\u001b[0m\u001b[0;34m,\u001b[0m \u001b[0;34m'Amount'\u001b[0m\u001b[0;34m]\u001b[0m\u001b[0;34m)\u001b[0m\u001b[0;34m\u001b[0m\u001b[0m\n\u001b[0m\u001b[1;32m      5\u001b[0m     \u001b[0mdf\u001b[0m \u001b[0;34m=\u001b[0m \u001b[0mclean_df\u001b[0m\u001b[0;34m(\u001b[0m\u001b[0mdf\u001b[0m\u001b[0;34m)\u001b[0m\u001b[0;34m\u001b[0m\u001b[0m\n\u001b[1;32m      6\u001b[0m     \u001b[0mdf\u001b[0m \u001b[0;34m=\u001b[0m \u001b[0mdf\u001b[0m\u001b[0;34m.\u001b[0m\u001b[0mset_index\u001b[0m\u001b[0;34m(\u001b[0m\u001b[0;34m'Date'\u001b[0m\u001b[0;34m)\u001b[0m\u001b[0;34m\u001b[0m\u001b[0m\n",
      "\u001b[0;32m~/anaconda3/lib/python3.6/site-packages/pandas/io/parsers.py\u001b[0m in \u001b[0;36mparser_f\u001b[0;34m(filepath_or_buffer, sep, delimiter, header, names, index_col, usecols, squeeze, prefix, mangle_dupe_cols, dtype, engine, converters, true_values, false_values, skipinitialspace, skiprows, nrows, na_values, keep_default_na, na_filter, verbose, skip_blank_lines, parse_dates, infer_datetime_format, keep_date_col, date_parser, dayfirst, iterator, chunksize, compression, thousands, decimal, lineterminator, quotechar, quoting, escapechar, comment, encoding, dialect, tupleize_cols, error_bad_lines, warn_bad_lines, skipfooter, doublequote, delim_whitespace, low_memory, memory_map, float_precision)\u001b[0m\n\u001b[1;32m    676\u001b[0m                     skip_blank_lines=skip_blank_lines)\n\u001b[1;32m    677\u001b[0m \u001b[0;34m\u001b[0m\u001b[0m\n\u001b[0;32m--> 678\u001b[0;31m         \u001b[0;32mreturn\u001b[0m \u001b[0m_read\u001b[0m\u001b[0;34m(\u001b[0m\u001b[0mfilepath_or_buffer\u001b[0m\u001b[0;34m,\u001b[0m \u001b[0mkwds\u001b[0m\u001b[0;34m)\u001b[0m\u001b[0;34m\u001b[0m\u001b[0m\n\u001b[0m\u001b[1;32m    679\u001b[0m \u001b[0;34m\u001b[0m\u001b[0m\n\u001b[1;32m    680\u001b[0m     \u001b[0mparser_f\u001b[0m\u001b[0;34m.\u001b[0m\u001b[0m__name__\u001b[0m \u001b[0;34m=\u001b[0m \u001b[0mname\u001b[0m\u001b[0;34m\u001b[0m\u001b[0m\n",
      "\u001b[0;32m~/anaconda3/lib/python3.6/site-packages/pandas/io/parsers.py\u001b[0m in \u001b[0;36m_read\u001b[0;34m(filepath_or_buffer, kwds)\u001b[0m\n\u001b[1;32m    438\u001b[0m \u001b[0;34m\u001b[0m\u001b[0m\n\u001b[1;32m    439\u001b[0m     \u001b[0;31m# Create the parser.\u001b[0m\u001b[0;34m\u001b[0m\u001b[0;34m\u001b[0m\u001b[0m\n\u001b[0;32m--> 440\u001b[0;31m     \u001b[0mparser\u001b[0m \u001b[0;34m=\u001b[0m \u001b[0mTextFileReader\u001b[0m\u001b[0;34m(\u001b[0m\u001b[0mfilepath_or_buffer\u001b[0m\u001b[0;34m,\u001b[0m \u001b[0;34m**\u001b[0m\u001b[0mkwds\u001b[0m\u001b[0;34m)\u001b[0m\u001b[0;34m\u001b[0m\u001b[0m\n\u001b[0m\u001b[1;32m    441\u001b[0m \u001b[0;34m\u001b[0m\u001b[0m\n\u001b[1;32m    442\u001b[0m     \u001b[0;32mif\u001b[0m \u001b[0mchunksize\u001b[0m \u001b[0;32mor\u001b[0m \u001b[0miterator\u001b[0m\u001b[0;34m:\u001b[0m\u001b[0;34m\u001b[0m\u001b[0m\n",
      "\u001b[0;32m~/anaconda3/lib/python3.6/site-packages/pandas/io/parsers.py\u001b[0m in \u001b[0;36m__init__\u001b[0;34m(self, f, engine, **kwds)\u001b[0m\n\u001b[1;32m    785\u001b[0m             \u001b[0mself\u001b[0m\u001b[0;34m.\u001b[0m\u001b[0moptions\u001b[0m\u001b[0;34m[\u001b[0m\u001b[0;34m'has_index_names'\u001b[0m\u001b[0;34m]\u001b[0m \u001b[0;34m=\u001b[0m \u001b[0mkwds\u001b[0m\u001b[0;34m[\u001b[0m\u001b[0;34m'has_index_names'\u001b[0m\u001b[0;34m]\u001b[0m\u001b[0;34m\u001b[0m\u001b[0m\n\u001b[1;32m    786\u001b[0m \u001b[0;34m\u001b[0m\u001b[0m\n\u001b[0;32m--> 787\u001b[0;31m         \u001b[0mself\u001b[0m\u001b[0;34m.\u001b[0m\u001b[0m_make_engine\u001b[0m\u001b[0;34m(\u001b[0m\u001b[0mself\u001b[0m\u001b[0;34m.\u001b[0m\u001b[0mengine\u001b[0m\u001b[0;34m)\u001b[0m\u001b[0;34m\u001b[0m\u001b[0m\n\u001b[0m\u001b[1;32m    788\u001b[0m \u001b[0;34m\u001b[0m\u001b[0m\n\u001b[1;32m    789\u001b[0m     \u001b[0;32mdef\u001b[0m \u001b[0mclose\u001b[0m\u001b[0;34m(\u001b[0m\u001b[0mself\u001b[0m\u001b[0;34m)\u001b[0m\u001b[0;34m:\u001b[0m\u001b[0;34m\u001b[0m\u001b[0m\n",
      "\u001b[0;32m~/anaconda3/lib/python3.6/site-packages/pandas/io/parsers.py\u001b[0m in \u001b[0;36m_make_engine\u001b[0;34m(self, engine)\u001b[0m\n\u001b[1;32m   1012\u001b[0m     \u001b[0;32mdef\u001b[0m \u001b[0m_make_engine\u001b[0m\u001b[0;34m(\u001b[0m\u001b[0mself\u001b[0m\u001b[0;34m,\u001b[0m \u001b[0mengine\u001b[0m\u001b[0;34m=\u001b[0m\u001b[0;34m'c'\u001b[0m\u001b[0;34m)\u001b[0m\u001b[0;34m:\u001b[0m\u001b[0;34m\u001b[0m\u001b[0m\n\u001b[1;32m   1013\u001b[0m         \u001b[0;32mif\u001b[0m \u001b[0mengine\u001b[0m \u001b[0;34m==\u001b[0m \u001b[0;34m'c'\u001b[0m\u001b[0;34m:\u001b[0m\u001b[0;34m\u001b[0m\u001b[0m\n\u001b[0;32m-> 1014\u001b[0;31m             \u001b[0mself\u001b[0m\u001b[0;34m.\u001b[0m\u001b[0m_engine\u001b[0m \u001b[0;34m=\u001b[0m \u001b[0mCParserWrapper\u001b[0m\u001b[0;34m(\u001b[0m\u001b[0mself\u001b[0m\u001b[0;34m.\u001b[0m\u001b[0mf\u001b[0m\u001b[0;34m,\u001b[0m \u001b[0;34m**\u001b[0m\u001b[0mself\u001b[0m\u001b[0;34m.\u001b[0m\u001b[0moptions\u001b[0m\u001b[0;34m)\u001b[0m\u001b[0;34m\u001b[0m\u001b[0m\n\u001b[0m\u001b[1;32m   1015\u001b[0m         \u001b[0;32melse\u001b[0m\u001b[0;34m:\u001b[0m\u001b[0;34m\u001b[0m\u001b[0m\n\u001b[1;32m   1016\u001b[0m             \u001b[0;32mif\u001b[0m \u001b[0mengine\u001b[0m \u001b[0;34m==\u001b[0m \u001b[0;34m'python'\u001b[0m\u001b[0;34m:\u001b[0m\u001b[0;34m\u001b[0m\u001b[0m\n",
      "\u001b[0;32m~/anaconda3/lib/python3.6/site-packages/pandas/io/parsers.py\u001b[0m in \u001b[0;36m__init__\u001b[0;34m(self, src, **kwds)\u001b[0m\n\u001b[1;32m   1706\u001b[0m         \u001b[0mkwds\u001b[0m\u001b[0;34m[\u001b[0m\u001b[0;34m'usecols'\u001b[0m\u001b[0;34m]\u001b[0m \u001b[0;34m=\u001b[0m \u001b[0mself\u001b[0m\u001b[0;34m.\u001b[0m\u001b[0musecols\u001b[0m\u001b[0;34m\u001b[0m\u001b[0m\n\u001b[1;32m   1707\u001b[0m \u001b[0;34m\u001b[0m\u001b[0m\n\u001b[0;32m-> 1708\u001b[0;31m         \u001b[0mself\u001b[0m\u001b[0;34m.\u001b[0m\u001b[0m_reader\u001b[0m \u001b[0;34m=\u001b[0m \u001b[0mparsers\u001b[0m\u001b[0;34m.\u001b[0m\u001b[0mTextReader\u001b[0m\u001b[0;34m(\u001b[0m\u001b[0msrc\u001b[0m\u001b[0;34m,\u001b[0m \u001b[0;34m**\u001b[0m\u001b[0mkwds\u001b[0m\u001b[0;34m)\u001b[0m\u001b[0;34m\u001b[0m\u001b[0m\n\u001b[0m\u001b[1;32m   1709\u001b[0m \u001b[0;34m\u001b[0m\u001b[0m\n\u001b[1;32m   1710\u001b[0m         \u001b[0mpassed_names\u001b[0m \u001b[0;34m=\u001b[0m \u001b[0mself\u001b[0m\u001b[0;34m.\u001b[0m\u001b[0mnames\u001b[0m \u001b[0;32mis\u001b[0m \u001b[0;32mNone\u001b[0m\u001b[0;34m\u001b[0m\u001b[0m\n",
      "\u001b[0;32mpandas/_libs/parsers.pyx\u001b[0m in \u001b[0;36mpandas._libs.parsers.TextReader.__cinit__\u001b[0;34m()\u001b[0m\n",
      "\u001b[0;32mpandas/_libs/parsers.pyx\u001b[0m in \u001b[0;36mpandas._libs.parsers.TextReader._setup_parser_source\u001b[0;34m()\u001b[0m\n",
      "\u001b[0;31mFileNotFoundError\u001b[0m: File b'banking.csv' does not exist"
     ]
    }
   ],
   "source": [
    "trend_line('banking.csv', 'CASH')"
   ]
  },
  {
   "cell_type": "code",
   "execution_count": null,
   "metadata": {},
   "outputs": [],
   "source": []
  },
  {
   "cell_type": "code",
   "execution_count": null,
   "metadata": {},
   "outputs": [],
   "source": []
  },
  {
   "cell_type": "code",
   "execution_count": null,
   "metadata": {},
   "outputs": [],
   "source": []
  },
  {
   "cell_type": "code",
   "execution_count": null,
   "metadata": {},
   "outputs": [],
   "source": []
  },
  {
   "cell_type": "code",
   "execution_count": null,
   "metadata": {},
   "outputs": [],
   "source": []
  },
  {
   "cell_type": "code",
   "execution_count": null,
   "metadata": {},
   "outputs": [],
   "source": [
    "\n"
   ]
  },
  {
   "cell_type": "code",
   "execution_count": null,
   "metadata": {},
   "outputs": [],
   "source": []
  },
  {
   "cell_type": "code",
   "execution_count": null,
   "metadata": {
    "scrolled": true
   },
   "outputs": [],
   "source": []
  },
  {
   "cell_type": "code",
   "execution_count": null,
   "metadata": {},
   "outputs": [],
   "source": []
  },
  {
   "cell_type": "code",
   "execution_count": null,
   "metadata": {},
   "outputs": [],
   "source": []
  },
  {
   "cell_type": "code",
   "execution_count": null,
   "metadata": {},
   "outputs": [],
   "source": []
  },
  {
   "cell_type": "code",
   "execution_count": null,
   "metadata": {},
   "outputs": [],
   "source": []
  },
  {
   "cell_type": "code",
   "execution_count": null,
   "metadata": {},
   "outputs": [],
   "source": []
  },
  {
   "cell_type": "code",
   "execution_count": null,
   "metadata": {},
   "outputs": [],
   "source": []
  },
  {
   "cell_type": "code",
   "execution_count": null,
   "metadata": {},
   "outputs": [],
   "source": []
  },
  {
   "cell_type": "code",
   "execution_count": null,
   "metadata": {},
   "outputs": [],
   "source": []
  },
  {
   "cell_type": "code",
   "execution_count": null,
   "metadata": {},
   "outputs": [],
   "source": []
  },
  {
   "cell_type": "code",
   "execution_count": null,
   "metadata": {},
   "outputs": [],
   "source": []
  },
  {
   "cell_type": "code",
   "execution_count": null,
   "metadata": {},
   "outputs": [],
   "source": []
  },
  {
   "cell_type": "code",
   "execution_count": null,
   "metadata": {},
   "outputs": [],
   "source": []
  },
  {
   "cell_type": "code",
   "execution_count": null,
   "metadata": {},
   "outputs": [],
   "source": []
  },
  {
   "cell_type": "code",
   "execution_count": null,
   "metadata": {},
   "outputs": [],
   "source": []
  },
  {
   "cell_type": "code",
   "execution_count": null,
   "metadata": {},
   "outputs": [],
   "source": []
  },
  {
   "cell_type": "code",
   "execution_count": null,
   "metadata": {},
   "outputs": [],
   "source": []
  },
  {
   "cell_type": "code",
   "execution_count": null,
   "metadata": {},
   "outputs": [],
   "source": []
  },
  {
   "cell_type": "code",
   "execution_count": null,
   "metadata": {},
   "outputs": [],
   "source": []
  },
  {
   "cell_type": "code",
   "execution_count": null,
   "metadata": {},
   "outputs": [],
   "source": []
  },
  {
   "cell_type": "code",
   "execution_count": null,
   "metadata": {},
   "outputs": [],
   "source": []
  },
  {
   "cell_type": "code",
   "execution_count": null,
   "metadata": {},
   "outputs": [],
   "source": []
  },
  {
   "cell_type": "code",
   "execution_count": null,
   "metadata": {},
   "outputs": [],
   "source": []
  },
  {
   "cell_type": "code",
   "execution_count": null,
   "metadata": {},
   "outputs": [],
   "source": []
  },
  {
   "cell_type": "code",
   "execution_count": null,
   "metadata": {},
   "outputs": [],
   "source": []
  },
  {
   "cell_type": "code",
   "execution_count": null,
   "metadata": {},
   "outputs": [],
   "source": []
  },
  {
   "cell_type": "code",
   "execution_count": null,
   "metadata": {},
   "outputs": [],
   "source": []
  },
  {
   "cell_type": "code",
   "execution_count": null,
   "metadata": {},
   "outputs": [],
   "source": []
  },
  {
   "cell_type": "code",
   "execution_count": null,
   "metadata": {},
   "outputs": [],
   "source": []
  },
  {
   "cell_type": "code",
   "execution_count": null,
   "metadata": {},
   "outputs": [],
   "source": []
  }
 ],
 "metadata": {
  "kernelspec": {
   "display_name": "Python 3",
   "language": "python",
   "name": "python3"
  },
  "language_info": {
   "codemirror_mode": {
    "name": "ipython",
    "version": 3
   },
   "file_extension": ".py",
   "mimetype": "text/x-python",
   "name": "python",
   "nbconvert_exporter": "python",
   "pygments_lexer": "ipython3",
   "version": "3.6.5"
  }
 },
 "nbformat": 4,
 "nbformat_minor": 2
}
